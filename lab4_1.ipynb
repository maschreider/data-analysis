{
  "cells": [
    {
      "cell_type": "code",
      "execution_count": 1,
      "metadata": {
        "id": "nnAcysYjfnYU"
      },
      "outputs": [],
      "source": [
        "import random\n",
        "import string\n",
        "import re\n",
        "import numpy as np\n",
        "import tensorflow as tf\n",
        "import keras"
      ]
    },
    {
      "cell_type": "code",
      "execution_count": 2,
      "metadata": {
        "colab": {
          "base_uri": "https://localhost:8080/"
        },
        "id": "K3rUT0OafnYk",
        "outputId": "3e65493c-645c-44b5-d481-93a441d55a1d"
      },
      "outputs": [
        {
          "name": "stdout",
          "output_type": "stream",
          "text": [
            "Do you have a pencil?\tМаєте олівець?\tCC-BY 2.0 (France) Attribution: tatoeba.org #69635 (CK) & #6536468 (deniko)\n",
            "Please come.\tБудь ласка, приходьте.\tCC-BY 2.0 (France) Attribution: tatoeba.org #324997 (CK) & #5948666 (deniko)\n",
            "This is what I need.\tЦе те, що мені потрібно.\tCC-BY 2.0 (France) Attribution: tatoeba.org #56215 (CK) & #4286850 (rmdas)\n"
          ]
        }
      ],
      "source": [
        "with open('ukr.txt', 'r', encoding = 'utf-8') as f:\n",
        "  lines = f.read().split('\\n')[:-1]\n",
        "\n",
        "for _ in range(3):\n",
        "    print(random.choice(lines))"
      ]
    },
    {
      "cell_type": "code",
      "execution_count": 3,
      "metadata": {
        "colab": {
          "base_uri": "https://localhost:8080/"
        },
        "id": "MnoPQRwAfnYo",
        "outputId": "ba9a7b75-a01f-40db-c5fb-4eeb9b1cb134"
      },
      "outputs": [
        {
          "name": "stdout",
          "output_type": "stream",
          "text": [
            "(\"How's your daughter?\", '[s] Як твоя дочка? [e]')\n",
            "(\"It's artificial.\", '[s] Вона штучна. [e]')\n",
            "(\"I've been robbed.\", '[s] Мене пограбували. [e]')\n",
            "('I told Tom to relax.', '[s] Я сказала Тому розслабитися. [e]')\n",
            "(\"We're smart.\", '[s] Ми розумні. [e]')\n"
          ]
        }
      ],
      "source": [
        "text_pairs = []\n",
        "for line in lines:\n",
        "  eng, ukr, _ = line.split('\\t')\n",
        "  ukr = '[s] ' + ukr + ' [e]'\n",
        "  text_pairs.append((eng, ukr))\n",
        "\n",
        "for t in range(5):\n",
        "    print(random.choice(text_pairs))"
      ]
    },
    {
      "cell_type": "code",
      "execution_count": 4,
      "metadata": {
        "colab": {
          "base_uri": "https://localhost:8080/"
        },
        "id": "lqUk9HyrfnYs",
        "outputId": "71fd3f68-ac0d-43fe-a64e-70a5be1e4f86"
      },
      "outputs": [
        {
          "name": "stdout",
          "output_type": "stream",
          "text": [
            "all pairs: 50000\n",
            "train pairs: 35000\n",
            "validation pairs: 7500\n",
            "test pairs: 7500\n"
          ]
        }
      ],
      "source": [
        "random.shuffle(text_pairs)\n",
        "text_pairs = text_pairs[:50000]\n",
        "num_val = int(0.15 * len(text_pairs))\n",
        "num_train = len(text_pairs) - 2 * num_val\n",
        "train_pairs = text_pairs[:num_train]\n",
        "val_pairs = text_pairs[num_train : num_train + num_val]\n",
        "test_pairs = text_pairs[num_train + num_val :]\n",
        "\n",
        "print(f'all pairs: {len(text_pairs)}')\n",
        "print(f'train pairs: {len(train_pairs)}')\n",
        "print(f'validation pairs: {len(val_pairs)}')\n",
        "print(f'test pairs: {len(test_pairs)}')"
      ]
    },
    {
      "cell_type": "code",
      "execution_count": 5,
      "metadata": {
        "id": "1ij0lmzRfnYv"
      },
      "outputs": [],
      "source": [
        "strip_chars = string.punctuation.replace('[', '')\n",
        "strip_chars = strip_chars.replace(']', '')\n",
        "\n",
        "vocabulary_size = 15000\n",
        "sequence_length = 20\n",
        "batch_size = 64\n",
        "\n",
        "def ukr_standardization(input_string):\n",
        "    return tf.strings.regex_replace(tf.strings.lower(input_string), '[%s]' % re.escape(strip_chars), '')\n",
        "\n",
        "eng_vector = keras.layers.TextVectorization(\n",
        "    max_tokens=vocabulary_size,\n",
        "    output_mode='int',\n",
        "    output_sequence_length=sequence_length,\n",
        ")\n",
        "ukr_vector = keras.layers.TextVectorization(\n",
        "    max_tokens=vocabulary_size,\n",
        "    output_mode='int',\n",
        "    output_sequence_length=sequence_length + 1,\n",
        "    standardize=ukr_standardization,\n",
        ")\n",
        "train_eng = [pair[0] for pair in train_pairs]\n",
        "train_ukr = [pair[1] for pair in train_pairs]\n",
        "eng_vector.adapt(train_eng)\n",
        "ukr_vector.adapt(train_ukr)"
      ]
    },
    {
      "cell_type": "code",
      "execution_count": 9,
      "metadata": {
        "colab": {
          "base_uri": "https://localhost:8080/"
        },
        "id": "vee4Xe-pglym",
        "outputId": "5dd71dad-1229-4716-e275-b980f2932f70"
      },
      "outputs": [
        {
          "name": "stdout",
          "output_type": "stream",
          "text": [
            "5157\n",
            "['it', 'do', 'was', 'are', 'me', 'my', 'this', 'have', 'that', 'we']\n",
            "13341\n",
            "['Тома', 'Ми', 'У', 'Ви', 'мене', 'на', 'Він', 'Мені', 'що', 'ти']\n"
          ]
        }
      ],
      "source": [
        "for v in [eng_vector, ukr_vector]:\n",
        "  print(len(v.get_vocabulary()))\n",
        "  print(v.get_vocabulary()[10:20])"
      ]
    },
    {
      "cell_type": "code",
      "execution_count": null,
      "metadata": {
        "id": "GMEUz2hFfnYx"
      },
      "outputs": [],
      "source": [
        "def format_dataset(eng, ukr):\n",
        "  eng = eng_vector(eng)\n",
        "  ukr = ukr_vector(ukr)\n",
        "  return ({ \"encoder_inputs\": eng, \"decoder_inputs\": ukr[:, :-1]}, ukr[:, 1:])\n",
        "\n",
        "def make_dataset(pairs):\n",
        "  eng_texts, ukr_texts = zip(*pairs)\n",
        "  eng_texts = list(eng_texts)\n",
        "  ukr_texts = list(ukr_texts)\n",
        "  dataset = tf.data.Dataset.from_tensor_slices((eng_texts, ukr_texts))\n",
        "  dataset = dataset.batch(batch_size)\n",
        "  dataset = dataset.map(format_dataset)\n",
        "  return dataset.cache().shuffle(2048).prefetch(16)\n",
        "\n",
        "train_ds = make_dataset(train_pairs)\n",
        "val_ds = make_dataset(val_pairs)"
      ]
    },
    {
      "cell_type": "code",
      "execution_count": null,
      "metadata": {
        "colab": {
          "base_uri": "https://localhost:8080/"
        },
        "id": "2NNGX9o5fnY0",
        "outputId": "5b690490-13f3-42c9-bd8a-8dfdcec87203"
      },
      "outputs": [
        {
          "name": "stdout",
          "output_type": "stream",
          "text": [
            "encoder inputs shape: (64, 20)\n",
            "decoder inputs shape: (64, 20)\n",
            "targets shape: (64, 20)\n"
          ]
        }
      ],
      "source": [
        "for inputs, targets in train_ds.take(1):\n",
        "    print(f'encoder inputs shape: {inputs[\"encoder_inputs\"].shape}')\n",
        "    print(f'decoder inputs shape: {inputs[\"decoder_inputs\"].shape}')\n",
        "    print(f\"targets shape: {targets.shape}\")"
      ]
    },
    {
      "cell_type": "code",
      "execution_count": null,
      "metadata": {
        "id": "PX1omx_DfnY4"
      },
      "outputs": [],
      "source": [
        "class TransformerEncoder(keras.layers.Layer):\n",
        "  def __init__(self, embed_dim, num_heads, ff_dim, rate=0.1):\n",
        "    super(TransformerEncoder, self).__init__()\n",
        "    self.attention = keras.layers.MultiHeadAttention(num_heads=num_heads, key_dim=embed_dim)\n",
        "    self.dense_proj = tf.keras.Sequential([keras.layers.Dense(ff_dim, activation=\"relu\"), keras.layers.Dense(embed_dim)])\n",
        "    self.layernorm1 = keras.layers.LayerNormalization(epsilon=1e-6)\n",
        "    self.layernorm2 = keras.layers.LayerNormalization(epsilon=1e-6)\n",
        "    self.dropout1 = keras.layers.Dropout(rate)\n",
        "    self.dropout2 = keras.layers.Dropout(rate)\n",
        "\n",
        "  def call(self, inputs, training):\n",
        "    attn_output = self.attention(inputs, inputs)\n",
        "    attn_output = self.dropout1(attn_output, training=training)\n",
        "    out1 = self.layernorm1(inputs + attn_output)\n",
        "    ffn_output = self.dense_proj(out1)\n",
        "    ffn_output = self.dropout2(ffn_output, training=training)\n",
        "    return self.layernorm2(out1 + ffn_output)"
      ]
    },
    {
      "cell_type": "code",
      "execution_count": null,
      "metadata": {
        "id": "8jEOCF9XfnY7"
      },
      "outputs": [],
      "source": [
        "class TransformerDecoder(keras.layers.Layer):\n",
        "  def __init__(self, embed_dim, num_heads, ff_dim, rate=0.1):\n",
        "    super(TransformerDecoder, self).__init__()\n",
        "    self.attention1 = keras.layers.MultiHeadAttention(num_heads=num_heads, key_dim=embed_dim)\n",
        "    self.attention2 = keras.layers.MultiHeadAttention(num_heads=num_heads, key_dim=embed_dim)\n",
        "    self.dense_proj = tf.keras.Sequential([keras.layers.Dense(ff_dim, activation=\"relu\"), keras.layers.Dense(embed_dim)])\n",
        "    self.layernorm1 = keras.layers.LayerNormalization(epsilon=1e-6)\n",
        "    self.layernorm2 = keras.layers.LayerNormalization(epsilon=1e-6)\n",
        "    self.layernorm3 = keras.layers.LayerNormalization(epsilon=1e-6)\n",
        "    self.dropout1 = keras.layers.Dropout(rate)\n",
        "    self.dropout2 = keras.layers.Dropout(rate)\n",
        "    self.dropout3 = keras.layers.Dropout(rate)\n",
        "\n",
        "  def call(self, inputs, enc_output, training):\n",
        "    attn_output1 = self.attention1(inputs, inputs)\n",
        "    attn_output1 = self.dropout1(attn_output1, training=training)\n",
        "    out1 = self.layernorm1(inputs + attn_output1)\n",
        "    attn_output2 = self.attention2(out1, enc_output)\n",
        "    attn_output2 = self.dropout2(attn_output2, training=training)\n",
        "    out2 = self.layernorm2(out1 + attn_output2)\n",
        "    ffn_output = self.dense_proj(out2)\n",
        "    ffn_output = self.dropout3(ffn_output, training=training)\n",
        "    return self.layernorm3(out2 + ffn_output)"
      ]
    },
    {
      "cell_type": "code",
      "execution_count": null,
      "metadata": {
        "id": "QEjKhz3JfnZA"
      },
      "outputs": [],
      "source": [
        "embed_dim = 256\n",
        "latent_dim = 2048\n",
        "num_heads = 8\n",
        "\n",
        "encoder_inputs = keras.layers.Input(shape=(None,), dtype=\"int64\", name=\"encoder_inputs\")\n",
        "x = keras.layers.Embedding(input_dim=vocabulary_size, output_dim=embed_dim)(encoder_inputs)\n",
        "encoder_outputs = TransformerEncoder(embed_dim, num_heads, latent_dim)(x)\n",
        "\n",
        "decoder_inputs = keras.layers.Input(shape=(None,), dtype=\"int64\", name=\"decoder_inputs\")\n",
        "encoded_seq_inputs = keras.layers.Input(shape=(None, embed_dim), name=\"decoder_state_inputs\")\n",
        "x = keras.layers.Embedding(input_dim=vocabulary_size, output_dim=embed_dim)(decoder_inputs)\n",
        "x = TransformerDecoder(embed_dim, num_heads, latent_dim)(x, encoder_outputs)\n",
        "decoder_outputs = keras.layers.Dense(vocabulary_size, activation=\"softmax\")(x)\n",
        "\n",
        "transformer = keras.models.Model([encoder_inputs, decoder_inputs], decoder_outputs, name=\"transformer\")"
      ]
    },
    {
      "cell_type": "code",
      "execution_count": null,
      "metadata": {
        "colab": {
          "base_uri": "https://localhost:8080/"
        },
        "id": "zY3qr4gafnZC",
        "outputId": "debbb045-e86d-4719-a922-1d86e40a8c10"
      },
      "outputs": [
        {
          "name": "stdout",
          "output_type": "stream",
          "text": [
            "Epoch 1/5\n",
            "547/547 [==============================] - 1698s 3s/step - loss: 1.6537 - accuracy: 0.7894 - val_loss: 1.2007 - val_accuracy: 0.8241\n",
            "Epoch 2/5\n",
            "547/547 [==============================] - 1690s 3s/step - loss: 1.4683 - accuracy: 0.8016 - val_loss: 0.9937 - val_accuracy: 0.8490\n",
            "Epoch 3/5\n",
            "547/547 [==============================] - 1690s 3s/step - loss: 1.1275 - accuracy: 0.8412 - val_loss: 0.8469 - val_accuracy: 0.8672\n",
            "Epoch 4/5\n",
            "547/547 [==============================] - 1717s 3s/step - loss: 0.8146 - accuracy: 0.8736 - val_loss: 0.6970 - val_accuracy: 0.8847\n",
            "Epoch 5/5\n",
            "547/547 [==============================] - 1692s 3s/step - loss: 0.8815 - accuracy: 0.8716 - val_loss: 0.6217 - val_accuracy: 0.8932\n"
          ]
        },
        {
          "data": {
            "text/plain": [
              "<keras.src.callbacks.History at 0x7abfbc21cb20>"
            ]
          },
          "execution_count": 35,
          "metadata": {},
          "output_type": "execute_result"
        }
      ],
      "source": [
        "epochs = 5\n",
        "\n",
        "transformer.compile(\"rmsprop\", loss=\"sparse_categorical_crossentropy\", metrics=[\"accuracy\"])\n",
        "transformer.fit(train_ds, epochs=epochs, validation_data=val_ds)"
      ]
    },
    {
      "cell_type": "code",
      "execution_count": 1,
      "metadata": {
        "colab": {
          "base_uri": "https://localhost:8080/"
        },
        "id": "77CyIKNifnZE",
        "outputId": "12b6dded-cd33-4db7-9f43-45dc090fca2c"
      },
      "outputs": [
        {
          "name": "stdout",
          "output_type": "stream",
          "text": [
            "--input: I'm not ashamed that I'm poor.\n",
            "--output: [s] Мене звільнили [e]\n",
            "--input: Tom still can't afford it.\n",
            "--output: [s] Ненавиджу [e]\n",
            "--input: Tom worked overtime.\n",
            "--output: [s] Том їсть рибу [e]\n",
            "--input: I can eat insects.\n",
            "--output: [s] Ненавиджу готувати [e]\n",
            "--input: The bus stops here.\n",
            "--output: [s] Автобус [UNR] тут. [e]\n"
          ]
        }
      ],
      "source": [
        "ukr_vocab = ukr_vector.get_vocabulary()\n",
        "ukr_index_lookup = dict(zip(range(len(ukr_vocab)), ukr_vocab))\n",
        "max_decoded_sentence_length = 20\n",
        "\n",
        "def decode_sequence(input_sentence):\n",
        "  tokenized_input_sentence = eng_vector([input_sentence])\n",
        "  decoded_sentence = \"[s]\"\n",
        "  for i in range(max_decoded_sentence_length):\n",
        "    tokenized_target_sentence = ukr_vector([decoded_sentence])[:, :-1]\n",
        "    predictions = transformer([tokenized_input_sentence, tokenized_target_sentence])\n",
        "    sampled_token_index = np.argmax(predictions[0, i, :])\n",
        "    sampled_token = ukr_index_lookup[sampled_token_index]\n",
        "    decoded_sentence += \" \" + sampled_token\n",
        "    if sampled_token == \"[e]\":\n",
        "      break\n",
        "  return decoded_sentence\n",
        "\n",
        "test_eng_texts = [pair[0] for pair in test_pairs]\n",
        "for _ in range(3):\n",
        "  input_sentence = random.choice(test_eng_texts)\n",
        "  translated = decode_sequence(input_sentence)\n",
        "  print(f'--input: {input_sentence}')\n",
        "  print(f'--output: {translated}')\n"
      ]
    }
  ],
  "metadata": {
    "colab": {
      "provenance": []
    },
    "kernelspec": {
      "display_name": "Python 3",
      "language": "python",
      "name": "python3"
    },
    "language_info": {
      "codemirror_mode": {
        "name": "ipython",
        "version": 3
      },
      "file_extension": ".py",
      "mimetype": "text/x-python",
      "name": "python",
      "nbconvert_exporter": "python",
      "pygments_lexer": "ipython3",
      "version": "3.10.11"
    }
  },
  "nbformat": 4,
  "nbformat_minor": 0
}
