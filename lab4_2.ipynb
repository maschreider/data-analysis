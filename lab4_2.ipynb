{
  "cells": [
    {
      "cell_type": "code",
      "execution_count": null,
      "metadata": {
        "id": "SFBys_Zmr7Pq"
      },
      "outputs": [],
      "source": [
        "from transformers import pipeline, AutoTokenizer, AutoModelForQuestionAnswering\n",
        "\n",
        "tokenizer = AutoTokenizer.from_pretrained(\"robinhad/ukrainian-qa\")\n",
        "model = AutoModelForQuestionAnswering.from_pretrained(\"robinhad/ukrainian-qa\")\n",
        "\n",
        "qa_model = pipeline(\"question-answering\", model=model.to(\"cpu\"), tokenizer=tokenizer)"
      ]
    },
    {
      "cell_type": "code",
      "execution_count": null,
      "metadata": {
        "colab": {
          "base_uri": "https://localhost:8080/"
        },
        "id": "VUjmWbzZvH0_",
        "outputId": "b5bd53d8-eca9-4fb6-cab9-7825d63c0bc7"
      },
      "outputs": [
        {
          "data": {
            "text/plain": [
              "{'score': 0.6355366110801697,\n",
              " 'start': 7,\n",
              " 'end': 26,\n",
              " 'answer': ' у мене все чудово,'}"
            ]
          },
          "execution_count": 8,
          "metadata": {},
          "output_type": "execute_result"
        }
      ],
      "source": [
        "question = \"Привіт, як спави?\"\n",
        "context = \"Привіт, у мене все чудово, сьогодні я отримав 100 балів по ІАД.\"\n",
        "qa_model(question = question, context = context)"
      ]
    },
    {
      "cell_type": "code",
      "execution_count": null,
      "metadata": {
        "colab": {
          "base_uri": "https://localhost:8080/"
        },
        "id": "qY0nth7UuEy-",
        "outputId": "15a886ef-fb11-4600-96ac-ca3fed36bab3"
      },
      "outputs": [
        {
          "data": {
            "text/plain": [
              "{'score': 0.5841266512870789, 'start': 127, 'end': 132, 'answer': ' 1995'}"
            ]
          },
          "execution_count": 12,
          "metadata": {},
          "output_type": "execute_result"
        }
      ],
      "source": [
        "context = \"Фізико-технічний інститут (ФТІ), один із науково-навчальних підрозділів НТУУ «КПІ імені Ігоря Сікорського», заснований у лютому 1995 року. Інститут готує фахівців з сучасних розділів прикладної фізики, інформатики та інформаційної безпеки.\"\n",
        "question = \"В якому році зановано Фізико-технічний інститут?\"\n",
        "qa_model(question = question, context = context)"
      ]
    },
    {
      "cell_type": "code",
      "execution_count": null,
      "metadata": {
        "colab": {
          "base_uri": "https://localhost:8080/"
        },
        "id": "hOnaYDCrvY53",
        "outputId": "cd7efc2b-0405-40dc-d9fb-445d42299592"
      },
      "outputs": [
        {
          "data": {
            "text/plain": [
              "{'score': 0.5087624788284302, 'start': 25, 'end': 32, 'answer': ' (ФТІ),'}"
            ]
          },
          "execution_count": 13,
          "metadata": {},
          "output_type": "execute_result"
        }
      ],
      "source": [
        "question = \"Яка скорочена назва Фізико-технічного інституту?\"\n",
        "qa_model(question = question, context = context)"
      ]
    },
    {
      "cell_type": "code",
      "execution_count": null,
      "metadata": {
        "colab": {
          "base_uri": "https://localhost:8080/"
        },
        "id": "Vr20hUzuvm5n",
        "outputId": "c17f392e-ecab-473c-8e6d-e53fe83c11f9"
      },
      "outputs": [
        {
          "data": {
            "text/plain": [
              "{'score': 0.6482088565826416,\n",
              " 'start': 118,\n",
              " 'end': 138,\n",
              " 'answer': ' у лютому 1995 року.'}"
            ]
          },
          "execution_count": 14,
          "metadata": {},
          "output_type": "execute_result"
        }
      ],
      "source": [
        "question = \"В якому місяці засновано ФТІ?\"\n",
        "qa_model(question = question, context = context)"
      ]
    },
    {
      "cell_type": "code",
      "execution_count": null,
      "metadata": {
        "colab": {
          "base_uri": "https://localhost:8080/"
        },
        "id": "wkhf3ELCv6aQ",
        "outputId": "f59fadef-8547-4c3e-b1ad-2c938b396edb"
      },
      "outputs": [
        {
          "data": {
            "text/plain": [
              "{'score': 0.32109594345092773,\n",
              " 'start': 71,\n",
              " 'end': 107,\n",
              " 'answer': ' НТУУ «КПІ імені Ігоря Сікорського»,'}"
            ]
          },
          "execution_count": 17,
          "metadata": {},
          "output_type": "execute_result"
        }
      ],
      "source": [
        "question = \"Частиною якого закладу є ФТІ?\"\n",
        "qa_model(question = question, context = context)"
      ]
    }
  ],
  "metadata": {
    "colab": {
      "provenance": []
    },
    "kernelspec": {
      "display_name": "Python 3",
      "name": "python3"
    },
    "language_info": {
      "name": "python"
    }
  },
  "nbformat": 4,
  "nbformat_minor": 0
}
